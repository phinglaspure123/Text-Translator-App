{
 "cells": [
  {
   "cell_type": "markdown",
   "metadata": {},
   "source": [
    "* importing libraries"
   ]
  },
  {
   "cell_type": "code",
   "execution_count": 1,
   "metadata": {},
   "outputs": [],
   "source": [
    "from tkinter import *    #for GUI\n",
    "from tkinter import ttk   # for styling widgets\n",
    "from googletrans import Translator,LANGUAGES   #for translator"
   ]
  },
  {
   "cell_type": "code",
   "execution_count": 2,
   "metadata": {},
   "outputs": [],
   "source": [
    "languge=list(LANGUAGES.values())"
   ]
  },
  {
   "cell_type": "code",
   "execution_count": 3,
   "metadata": {},
   "outputs": [
    {
     "data": {
      "text/plain": [
       "['afrikaans',\n",
       " 'albanian',\n",
       " 'amharic',\n",
       " 'arabic',\n",
       " 'armenian',\n",
       " 'azerbaijani',\n",
       " 'basque',\n",
       " 'belarusian',\n",
       " 'bengali',\n",
       " 'bosnian',\n",
       " 'bulgarian']"
      ]
     },
     "execution_count": 3,
     "metadata": {},
     "output_type": "execute_result"
    }
   ],
   "source": [
    "languge[0:11]"
   ]
  },
  {
   "cell_type": "code",
   "execution_count": 13,
   "metadata": {},
   "outputs": [],
   "source": [
    "# def Translator(msg,destination_laungauge):\n",
    "#     translator=Translator()\n",
    "#     transated=translator.traslate(text=msg,dest=destination_laungauge)\n",
    "#     return transated"
   ]
  },
  {
   "cell_type": "code",
   "execution_count": 14,
   "metadata": {},
   "outputs": [],
   "source": [
    "# text='My Name is Pushpak'\n",
    "\n",
    "# print((Translator(msg=text,destination_laungauge='hindi')))"
   ]
  },
  {
   "cell_type": "code",
   "execution_count": 9,
   "metadata": {},
   "outputs": [
    {
     "name": "stdout",
     "output_type": "stream",
     "text": [
      "My name is pushpak\n"
     ]
    }
   ],
   "source": [
    "from googletrans import Translator,LANGUAGES\n",
    "# Create a Translator object\n",
    "translator = Translator()\n",
    "\n",
    "# Define the text you want to translate\n",
    "text = \"Mi nombre es pushpak\"\n",
    "\n",
    "# Translate the text to Arabic\n",
    "translated = translator.translate(text, dest='english')\n",
    "\n",
    "print(translated.text)"
   ]
  }
 ],
 "metadata": {
  "kernelspec": {
   "display_name": "Python 3",
   "language": "python",
   "name": "python3"
  },
  "language_info": {
   "codemirror_mode": {
    "name": "ipython",
    "version": 3
   },
   "file_extension": ".py",
   "mimetype": "text/x-python",
   "name": "python",
   "nbconvert_exporter": "python",
   "pygments_lexer": "ipython3",
   "version": "3.10.11"
  }
 },
 "nbformat": 4,
 "nbformat_minor": 2
}
